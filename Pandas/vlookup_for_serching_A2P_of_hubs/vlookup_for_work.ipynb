{
 "cells": [
  {
   "cell_type": "code",
   "execution_count": 76,
   "id": "318f991b",
   "metadata": {
    "scrolled": false
   },
   "outputs": [],
   "source": [
    "import pandas as pd\n",
    "hubs_df = pd.read_csv('Hubs.csv',sep=';',index_col='Route')\n",
    "list_of_hubs = pd.read_csv('List_of_hubs.csv',sep=';',index_col='Route')\n",
    "\n",
    "right_join = pd.merge(hubs_df, list_of_hubs, on='Route', how='right')\n",
    "\n",
    "result = pd.DataFrame()\n",
    "result['Supplier'] = right_join['A2P_x']\n",
    "result['RouteType'] = right_join['A2P_x']\n",
    "\n",
    "result.to_excel('Result.xlsx', index=False)\n",
    "\n",
    "right_join = right_join.drop(columns=['A2P_y'])\n",
    "right_join.to_excel('suppliers.xlsx')"
   ]
  },
  {
   "cell_type": "code",
   "execution_count": null,
   "id": "dcc09a54",
   "metadata": {},
   "outputs": [],
   "source": []
  }
 ],
 "metadata": {
  "kernelspec": {
   "display_name": "Python 3 (ipykernel)",
   "language": "python",
   "name": "python3"
  },
  "language_info": {
   "codemirror_mode": {
    "name": "ipython",
    "version": 3
   },
   "file_extension": ".py",
   "mimetype": "text/x-python",
   "name": "python",
   "nbconvert_exporter": "python",
   "pygments_lexer": "ipython3",
   "version": "3.9.13"
  }
 },
 "nbformat": 4,
 "nbformat_minor": 5
}
