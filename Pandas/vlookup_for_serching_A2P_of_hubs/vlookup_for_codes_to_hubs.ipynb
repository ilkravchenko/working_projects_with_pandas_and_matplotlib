{
 "cells": [
  {
   "cell_type": "code",
   "execution_count": 8,
   "id": "02e7b929",
   "metadata": {},
   "outputs": [],
   "source": [
    "import pandas as pd\n",
    "\n",
    "hubs_df = pd.read_csv('Hubs.csv',sep=';',index_col='A2P')\n",
    "List_of_A2Ps = pd.read_csv('List_of_A2Ps.csv',sep=';',index_col='A2P')\n",
    "hubs_df\n",
    "\n",
    "join = pd.merge(List_of_A2Ps, hubs_df, on='A2P', how='left')\n",
    "join = join.drop(columns=['Route_x'])\n",
    "join.to_excel('Result_for_names_by_codes.xlsx')"
   ]
  },
  {
   "cell_type": "code",
   "execution_count": null,
   "id": "f27cee9b",
   "metadata": {},
   "outputs": [],
   "source": []
  }
 ],
 "metadata": {
  "kernelspec": {
   "display_name": "Python 3 (ipykernel)",
   "language": "python",
   "name": "python3"
  },
  "language_info": {
   "codemirror_mode": {
    "name": "ipython",
    "version": 3
   },
   "file_extension": ".py",
   "mimetype": "text/x-python",
   "name": "python",
   "nbconvert_exporter": "python",
   "pygments_lexer": "ipython3",
   "version": "3.9.13"
  }
 },
 "nbformat": 4,
 "nbformat_minor": 5
}
